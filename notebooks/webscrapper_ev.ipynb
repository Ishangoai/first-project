{
 "cells": [
  {
   "cell_type": "code",
   "execution_count": 1,
   "id": "c5010ce1",
   "metadata": {},
   "outputs": [],
   "source": [
    "import requests\n",
    "from bs4 import BeautifulSoup\n",
    "import pandas as pd"
   ]
  },
  {
   "cell_type": "code",
   "execution_count": 2,
   "id": "a6eaa337",
   "metadata": {},
   "outputs": [],
   "source": [
    "# The url for the EV website \n",
    "url = ('https://ev-database.org/#sort:path~type~order=.rank~number~desc|range-slider-range:prev~next=0~1200|range-slider-acceleration:prev~next=2~23|range-slider-topspeed:prev~next=110~450|range-slider-battery:prev~next=10~200|range-slider-towweight:prev~next=0~2500|range-slider-fastcharge:prev~next=0~1500|paging:currentPage=0|paging:number=9')"
   ]
  },
  {
   "cell_type": "code",
   "execution_count": 3,
   "id": "a977b5e9",
   "metadata": {},
   "outputs": [],
   "source": [
    "#Dowloading the html page for the url specified \n",
    "page = requests.get(url)"
   ]
  },
  {
   "cell_type": "code",
   "execution_count": 5,
   "id": "6e2dd0a5",
   "metadata": {},
   "outputs": [],
   "source": [
    "#Parsing the downloaded html page using the beautiful soup library\n",
    "soup = BeautifulSoup(page.content, \"html.parser\")"
   ]
  },
  {
   "cell_type": "markdown",
   "id": "62e258c0",
   "metadata": {},
   "source": [
    "The information for each indiviidual car can be found in a class called **list-item** in the main block of the ev-site html document"
   ]
  },
  {
   "cell_type": "code",
   "execution_count": 7,
   "id": "7a9140dc",
   "metadata": {},
   "outputs": [],
   "source": [
    "#Extracting information for each respective car from the class list_item\n",
    "cars_list = soup.find_all(\"div\", class_=\"list-item\")"
   ]
  },
  {
   "cell_type": "markdown",
   "id": "f454de22",
   "metadata": {},
   "source": [
    "We'll be going through the process for the first car in our database which is the Tesla Model 3 Long Range"
   ]
  },
  {
   "cell_type": "code",
   "execution_count": 87,
   "id": "a723c396",
   "metadata": {},
   "outputs": [],
   "source": [
    "#Search in class title_wrap and anchor tag title for title or name of car\n",
    "carname1 = cars_list[0].find('a', class_='title').text  #Extracting name of the vehicale"
   ]
  },
  {
   "cell_type": "code",
   "execution_count": 88,
   "id": "38e401bd",
   "metadata": {},
   "outputs": [
    {
     "data": {
      "text/plain": [
       "'Tesla Model 3 Long Range Dual Motor'"
      ]
     },
     "execution_count": 88,
     "metadata": {},
     "output_type": "execute_result"
    }
   ],
   "source": [
    "carname1"
   ]
  },
  {
   "cell_type": "code",
   "execution_count": 86,
   "id": "94d424f0",
   "metadata": {},
   "outputs": [
    {
     "data": {
      "text/plain": [
       "['Battery Electric Vehicle ', ' \\n\\t\\t\\t\\t\\t75 kWh *']"
      ]
     },
     "execution_count": 86,
     "metadata": {},
     "output_type": "execute_result"
    }
   ],
   "source": [
    "#The battery information can be found in the subtitle section of every car information, we extract that information\n",
    "car1sub_title = cars_list[0].find(\"div\", class_=\"subtitle\").text.strip().split('|') #Extract the subtitle portion of the car titles\n",
    "#Looking at the subtitle information\n",
    "car1sub_title"
   ]
  },
  {
   "cell_type": "code",
   "execution_count": null,
   "id": "d249b83b",
   "metadata": {},
   "outputs": [],
   "source": [
    "car1_bat_type = car1sub_title[0].strip() #Extract the main subtitle heading\n",
    "car1_batt = car1sub_title[1].replace('*','').strip() #Extracting the battery capacity"
   ]
  },
  {
   "cell_type": "code",
   "execution_count": 11,
   "id": "eb268782",
   "metadata": {},
   "outputs": [
    {
     "data": {
      "text/plain": [
       "[<p class=\"left\">\n",
       " <span class=\"tag\">0 - 100</span>\n",
       " <span class=\"acceleration\">4.4 sec</span>\n",
       " </p>,\n",
       " <p class=\"left\">\n",
       " <span class=\"tag\">Top Speed</span>\n",
       " <span class=\"topspeed\">233 km/h</span>\n",
       " </p>,\n",
       " <p class=\"left\">\n",
       " <span class=\"tag\">Range</span>\n",
       " <span class=\"erange_real\">485 km</span>\n",
       " </p>,\n",
       " <p class=\"left\">\n",
       " <span class=\"tag\">Efficiency</span>\n",
       " <span class=\"efficiency\">155 Wh/km</span>\n",
       " </p>,\n",
       " <p class=\"left\">\n",
       " <span class=\"tag\">Fastcharge</span>\n",
       " <span class=\"fastcharge_speed_print\">750 km/h</span>\n",
       " <span class=\"fastcharge_speed hidden\">750</span>\n",
       " </p>]"
      ]
     },
     "execution_count": 11,
     "metadata": {},
     "output_type": "execute_result"
    }
   ],
   "source": [
    "#Extracting the specs for the first car in our cars list\n",
    "specs_list = cars_list[0].find_all('p', class_ = 'left')\n",
    "specs_list"
   ]
  },
  {
   "cell_type": "code",
   "execution_count": 12,
   "id": "69db5d2c",
   "metadata": {},
   "outputs": [],
   "source": [
    "#0-100 acceleration for the first car\n",
    "zerotohund = specs_list[0].text.strip().split('\\n')"
   ]
  },
  {
   "cell_type": "code",
   "execution_count": 13,
   "id": "a5d73530",
   "metadata": {},
   "outputs": [],
   "source": [
    "#Top speed for the first car\n",
    "top_speed = specs_list[1].text.strip().split('\\n')"
   ]
  },
  {
   "cell_type": "code",
   "execution_count": 14,
   "id": "35c2a007",
   "metadata": {},
   "outputs": [],
   "source": [
    "#Distance of trtavel on a full charge\n",
    "car_range = specs_list[2].text.strip().split('\\n')"
   ]
  },
  {
   "cell_type": "code",
   "execution_count": 15,
   "id": "02fc5d88",
   "metadata": {},
   "outputs": [],
   "source": [
    "#Power effeciency rating for the first car\n",
    "efficiency = specs_list[3].text.strip().split('\\n')"
   ]
  },
  {
   "cell_type": "code",
   "execution_count": 16,
   "id": "98452133",
   "metadata": {},
   "outputs": [],
   "source": [
    "#Fast charging time for the first car\n",
    "fast_charge = specs_list[4].text.strip().split('\\n')"
   ]
  },
  {
   "cell_type": "code",
   "execution_count": 17,
   "id": "fd3e0da8",
   "metadata": {},
   "outputs": [],
   "source": [
    "#The function below automates the process of extracting each spec in the specs data \n",
    "specs_dict = {} \n",
    "for spec in specs_list:\n",
    "    spec_data = spec.text.strip().split('\\n')\n",
    "    specs_dict[spec_data[0]] = spec_data[1]\n",
    "    "
   ]
  },
  {
   "cell_type": "code",
   "execution_count": 18,
   "id": "bd37a575",
   "metadata": {},
   "outputs": [
    {
     "data": {
      "text/plain": [
       "{'0 - 100': '4.4 sec',\n",
       " 'Top Speed': '233 km/h',\n",
       " 'Range': '485 km',\n",
       " 'Efficiency': '155 Wh/km',\n",
       " 'Fastcharge': '750 km/h'}"
      ]
     },
     "execution_count": 18,
     "metadata": {},
     "output_type": "execute_result"
    }
   ],
   "source": [
    "specs_dict"
   ]
  },
  {
   "cell_type": "code",
   "execution_count": 19,
   "id": "260cb082",
   "metadata": {},
   "outputs": [
    {
     "data": {
      "text/plain": [
       "[<span class=\"price_buy\">\n",
       " <span class=\"country_de\" title=\"Price in Germany before incentives\">€62,465</span>\n",
       " <span class=\"flag-icon flag-icon-de\"></span>\n",
       " </span>,\n",
       " <span class=\"price_buy\">\n",
       " <span class=\"country_nl\" title=\"Price in The Netherlands before incentives\">€60,995</span>\n",
       " <span class=\"flag-icon flag-icon-nl\"></span>\n",
       " </span>,\n",
       " <span class=\"price_buy\">\n",
       " <span class=\"country_uk\" title=\"Price in the United Kingdom after incentives\">£57,490</span>\n",
       " <span class=\"flag-icon flag-icon-gb\"></span>\n",
       " </span>]"
      ]
     },
     "execution_count": 19,
     "metadata": {},
     "output_type": "execute_result"
    }
   ],
   "source": [
    "#Extracting information about the prices of the car before and after incentives(additional packages that can be purchased)\n",
    "price_list = cars_list[0].find_all('span', class_ = 'price_buy')\n",
    "price_list"
   ]
  },
  {
   "cell_type": "code",
   "execution_count": 20,
   "id": "47a4c931",
   "metadata": {},
   "outputs": [],
   "source": [
    "#Extracting the prices for the \n",
    "prices = ['price_in_germ_b4_incentives','price_in_neth_b4_incentives', 'price_in_uk_after_incentives']\n",
    "prices_data = {}\n",
    "for ind,price in enumerate(price_list):\n",
    "    amount = price.text.strip()\n",
    "    prices_data[prices[ind]] = amount"
   ]
  },
  {
   "cell_type": "code",
   "execution_count": 21,
   "id": "b258dd61",
   "metadata": {},
   "outputs": [
    {
     "data": {
      "text/plain": [
       "{'price_in_germ_b4_incentives': '€62,465',\n",
       " 'price_in_neth_b4_incentives': '€60,995',\n",
       " 'price_in_uk_after_incentives': '£57,490'}"
      ]
     },
     "execution_count": 21,
     "metadata": {},
     "output_type": "execute_result"
    }
   ],
   "source": [
    "prices_data"
   ]
  },
  {
   "cell_type": "code",
   "execution_count": 22,
   "id": "7f005a23",
   "metadata": {},
   "outputs": [],
   "source": [
    "#Extracting information about the towing capacity of the car\n",
    "towing_capacity = cars_list[0].find_all('span', class_ = 'towweight')[0].text"
   ]
  },
  {
   "cell_type": "code",
   "execution_count": 23,
   "id": "c16bc878",
   "metadata": {},
   "outputs": [
    {
     "data": {
      "text/plain": [
       "'5'"
      ]
     },
     "execution_count": 23,
     "metadata": {},
     "output_type": "execute_result"
    }
   ],
   "source": [
    "#Extracting information about the number of seats available for in the car\n",
    "cars_list[0].find_all('span', title = 'Number of seats')[1].text"
   ]
  },
  {
   "cell_type": "code",
   "execution_count": 44,
   "id": "62980ce7",
   "metadata": {},
   "outputs": [],
   "source": [
    "def get_car_prior_info(car):\n",
    "    \n",
    "    #Extract information regarding title, battery and battery capacity \n",
    "    car_name = car.find('a', class_='title').text  #Extracting name of the vehicale\n",
    "    car_sub_info = car.find(\"div\", class_=\"subtitle\").text.strip().split('|') #Contains subtitle information for  every car\n",
    "    car_batt = car_sub_info[0].strip() #Extract the main subtitle heading\n",
    "    car_batt_capacity = car_sub_info[1].replace('*','').strip() #Extracting the battery capacity\n",
    "\n",
    "        \n",
    "    return car_name, car_batt , car_batt_capacity"
   ]
  },
  {
   "cell_type": "code",
   "execution_count": 46,
   "id": "f0139c97",
   "metadata": {},
   "outputs": [
    {
     "data": {
      "text/plain": [
       "('Kia EV6 GT', 'Battery Electric Vehicle', '74 kWh')"
      ]
     },
     "execution_count": 46,
     "metadata": {},
     "output_type": "execute_result"
    }
   ],
   "source": [
    "get_car_prior_info(cars_list[1])"
   ]
  },
  {
   "cell_type": "code",
   "execution_count": 89,
   "id": "b6d94918",
   "metadata": {},
   "outputs": [],
   "source": [
    "def get_car_specs(car):\n",
    "    #Extracting information regarding specs of car \n",
    "    specs_list = car.find_all('p', class_ = 'left') #Information about the specs of a car\n",
    "    specs_dict = {}\n",
    "    \n",
    "    #looping through the specs data \n",
    "    for spec in specs_list:\n",
    "        spec_data = spec.text.strip().split('\\n')\n",
    "        specs_dict[spec_data[0].replace('*','')] = spec_data[1]\n",
    "    \n",
    "    return specs_dict "
   ]
  },
  {
   "cell_type": "code",
   "execution_count": 90,
   "id": "98dfbd99",
   "metadata": {},
   "outputs": [
    {
     "data": {
      "text/plain": [
       "{'0 - 100': '6.1 sec',\n",
       " 'Top Speed': '225 km/h',\n",
       " 'Range': '380 km',\n",
       " 'Efficiency': '151 Wh/km',\n",
       " 'Fastcharge': '630 km/h'}"
      ]
     },
     "execution_count": 90,
     "metadata": {},
     "output_type": "execute_result"
    }
   ],
   "source": [
    "get_car_specs(cars_list[3])"
   ]
  },
  {
   "cell_type": "code",
   "execution_count": 91,
   "id": "dd718b4e",
   "metadata": {},
   "outputs": [
    {
     "data": {
      "text/plain": [
       "bs4.element.ResultSet"
      ]
     },
     "execution_count": 91,
     "metadata": {},
     "output_type": "execute_result"
    }
   ],
   "source": [
    "type(specs_list)"
   ]
  },
  {
   "cell_type": "code",
   "execution_count": 92,
   "id": "97877eb5",
   "metadata": {},
   "outputs": [],
   "source": [
    "def get_car_prices(car: 'bs4.element.Tag'):\n",
    "    #Extracting information regarding the pricing of the cars\n",
    "    price_names = ['germ_price','neth_price', 'uk_price']\n",
    "    price_data = car.find_all('span', class_ = 'price_buy')\n",
    "    prices_data = {}\n",
    "    \n",
    "    #Looping through the prices data and assigning each price to the repective price\n",
    "    for ind,price in enumerate(price_data):\n",
    "        amount = price.text.strip()\n",
    "        prices_data[price_names[ind]] = amount\n",
    "        \n",
    "        \n",
    "    return prices_data"
   ]
  },
  {
   "cell_type": "code",
   "execution_count": 93,
   "id": "464d81a1",
   "metadata": {},
   "outputs": [
    {
     "data": {
      "text/plain": [
       "{'germ_price': '€52,965', 'neth_price': '€52,995', 'uk_price': '£48,490'}"
      ]
     },
     "execution_count": 93,
     "metadata": {},
     "output_type": "execute_result"
    }
   ],
   "source": [
    "get_car_prices(cars_list[3])"
   ]
  },
  {
   "cell_type": "code",
   "execution_count": 81,
   "id": "9a4b9b70",
   "metadata": {},
   "outputs": [],
   "source": [
    "def get_car_extra_info(car):\n",
    "    '''\n",
    "\n",
    "    args:\n",
    "    car -> bs4 tag element , contains information about a single car\n",
    "    towing_capacity and number of seats\n",
    "    \n",
    "    result -> str, towing capaciity\n",
    "    '''\n",
    "    \n",
    "    #Extracting information about the towing capacity of the car\n",
    "    towing_capacity = car.find_all('span', class_ = 'towweight')[0].text\n",
    "    #Extracting information about the number of seats available for in the car\n",
    "    num_of_seats = car.find_all('span', title = 'Number of seats')[1].text\n",
    "    \n",
    "    return towing_capacity, num_of_seats"
   ]
  },
  {
   "cell_type": "code",
   "execution_count": 94,
   "id": "f2028d62",
   "metadata": {},
   "outputs": [
    {
     "data": {
      "text/plain": [
       "('1000', '5')"
      ]
     },
     "execution_count": 94,
     "metadata": {},
     "output_type": "execute_result"
    }
   ],
   "source": [
    "get_car_extra_info(cars_list[3])"
   ]
  },
  {
   "cell_type": "code",
   "execution_count": 82,
   "id": "be1b6af7",
   "metadata": {},
   "outputs": [],
   "source": [
    "def get_car_info(car: 'bs4.element.Tag'):\n",
    "    #Coalating all car information into one place\n",
    "    car_info = []\n",
    "    \n",
    "    #Extarcting information about name and battery\n",
    "    car_name , car_batt, car_batt_cap = get_car_prior_info(car)\n",
    "    car_specs = get_car_specs(car )\n",
    "    car_prices = get_car_prices(car)\n",
    "    towing_capacity , num_of_seats = get_car_extra_info(car)\n",
    "    \n",
    "    return (\n",
    "        [\n",
    "            car_name, car_batt, car_batt_cap,\n",
    "            car_specs['0 - 100'],car_specs['Top Speed'],car_specs['Range'],\n",
    "            car_specs['Efficiency'], car_specs['Fastcharge'],\n",
    "            car_prices['germ_price'],car_prices['neth_price'],car_prices['uk_price'],\n",
    "            towing_capacity, num_of_seats\n",
    "    ]\n",
    ")"
   ]
  },
  {
   "cell_type": "code",
   "execution_count": 83,
   "id": "0951816f",
   "metadata": {
    "scrolled": true
   },
   "outputs": [
    {
     "data": {
      "text/plain": [
       "bs4.element.Tag"
      ]
     },
     "execution_count": 83,
     "metadata": {},
     "output_type": "execute_result"
    }
   ],
   "source": [
    "type(cars_list[2])"
   ]
  },
  {
   "cell_type": "code",
   "execution_count": 66,
   "id": "5e5740f5",
   "metadata": {},
   "outputs": [],
   "source": [
    "#Automating data collection process for all cars in our database\n",
    "all_cars = []\n",
    "for car in cars_list:\n",
    "    single_car_data = get_car_info(car)\n",
    "    all_cars.append(single_car_data)"
   ]
  },
  {
   "cell_type": "code",
   "execution_count": 96,
   "id": "6749d866",
   "metadata": {
    "collapsed": true
   },
   "outputs": [
    {
     "data": {
      "text/plain": [
       "[['Tesla Model 3 Long Range Dual Motor',\n",
       "  'Battery Electric Vehicle',\n",
       "  '75 kWh',\n",
       "  '4.4 sec',\n",
       "  '233 km/h',\n",
       "  '485 km',\n",
       "  '155 Wh/km',\n",
       "  '750 km/h',\n",
       "  '€62,465',\n",
       "  '€60,995',\n",
       "  '£57,490',\n",
       "  '1000',\n",
       "  '5'],\n",
       " ['Kia EV6 GT',\n",
       "  'Battery Electric Vehicle',\n",
       "  '74 kWh',\n",
       "  '3.5 sec',\n",
       "  '260 km/h',\n",
       "  '370 km',\n",
       "  '200 Wh/km',\n",
       "  '970 km/h',\n",
       "  '€69,990',\n",
       "  '€68,495',\n",
       "  '£61,595',\n",
       "  '1800',\n",
       "  '5']]"
      ]
     },
     "execution_count": 96,
     "metadata": {},
     "output_type": "execute_result"
    }
   ],
   "source": [
    "#Displaying information for the first two cars \n",
    "all_cars[:2]"
   ]
  },
  {
   "cell_type": "code",
   "execution_count": 69,
   "id": "1a1bce7b",
   "metadata": {},
   "outputs": [],
   "source": [
    "columns = [\n",
    "    'car_name', 'electric_type','battery_capacity',\n",
    "    'zero_to_hundred','top_speed','range','efficiency',\n",
    "    'fastcharge','germ_price','neth_price','uk_price',\n",
    "    'tow_weight','no_of_seats'\n",
    "]"
   ]
  },
  {
   "cell_type": "code",
   "execution_count": 71,
   "id": "8e85cdf3",
   "metadata": {},
   "outputs": [],
   "source": [
    "all_cars_df = pd.DataFrame(all_cars, columns=columns)"
   ]
  },
  {
   "cell_type": "code",
   "execution_count": 72,
   "id": "a1f4c3e2",
   "metadata": {},
   "outputs": [
    {
     "data": {
      "text/html": [
       "<div>\n",
       "<style scoped>\n",
       "    .dataframe tbody tr th:only-of-type {\n",
       "        vertical-align: middle;\n",
       "    }\n",
       "\n",
       "    .dataframe tbody tr th {\n",
       "        vertical-align: top;\n",
       "    }\n",
       "\n",
       "    .dataframe thead th {\n",
       "        text-align: right;\n",
       "    }\n",
       "</style>\n",
       "<table border=\"1\" class=\"dataframe\">\n",
       "  <thead>\n",
       "    <tr style=\"text-align: right;\">\n",
       "      <th></th>\n",
       "      <th>car_name</th>\n",
       "      <th>electric_type</th>\n",
       "      <th>battery_capacity</th>\n",
       "      <th>zero_to_hundred</th>\n",
       "      <th>top_speed</th>\n",
       "      <th>range</th>\n",
       "      <th>efficiency</th>\n",
       "      <th>fastcharge</th>\n",
       "      <th>germ_price</th>\n",
       "      <th>neth_price</th>\n",
       "      <th>uk_price</th>\n",
       "      <th>tow_weight</th>\n",
       "      <th>no_of_seats</th>\n",
       "    </tr>\n",
       "  </thead>\n",
       "  <tbody>\n",
       "    <tr>\n",
       "      <th>0</th>\n",
       "      <td>Tesla Model 3 Long Range Dual Motor</td>\n",
       "      <td>Battery Electric Vehicle</td>\n",
       "      <td>75 kWh</td>\n",
       "      <td>4.4 sec</td>\n",
       "      <td>233 km/h</td>\n",
       "      <td>485 km</td>\n",
       "      <td>155 Wh/km</td>\n",
       "      <td>750 km/h</td>\n",
       "      <td>€62,465</td>\n",
       "      <td>€60,995</td>\n",
       "      <td>£57,490</td>\n",
       "      <td>1000</td>\n",
       "      <td>5</td>\n",
       "    </tr>\n",
       "    <tr>\n",
       "      <th>1</th>\n",
       "      <td>Kia EV6 GT</td>\n",
       "      <td>Battery Electric Vehicle</td>\n",
       "      <td>74 kWh</td>\n",
       "      <td>3.5 sec</td>\n",
       "      <td>260 km/h</td>\n",
       "      <td>370 km</td>\n",
       "      <td>200 Wh/km</td>\n",
       "      <td>970 km/h</td>\n",
       "      <td>€69,990</td>\n",
       "      <td>€68,495</td>\n",
       "      <td>£61,595</td>\n",
       "      <td>1800</td>\n",
       "      <td>5</td>\n",
       "    </tr>\n",
       "    <tr>\n",
       "      <th>2</th>\n",
       "      <td>Tesla Model Y Long Range Dual Motor</td>\n",
       "      <td>Battery Electric Vehicle</td>\n",
       "      <td>75 kWh</td>\n",
       "      <td>5.0 sec</td>\n",
       "      <td>217 km/h</td>\n",
       "      <td>435 km</td>\n",
       "      <td>172 Wh/km</td>\n",
       "      <td>670 km/h</td>\n",
       "      <td>€59,965</td>\n",
       "      <td>€66,995</td>\n",
       "      <td>£57,990</td>\n",
       "      <td>1600</td>\n",
       "      <td>5</td>\n",
       "    </tr>\n",
       "    <tr>\n",
       "      <th>3</th>\n",
       "      <td>Tesla Model 3</td>\n",
       "      <td>Battery Electric Vehicle</td>\n",
       "      <td>57.5 kWh</td>\n",
       "      <td>6.1 sec</td>\n",
       "      <td>225 km/h</td>\n",
       "      <td>380 km</td>\n",
       "      <td>151 Wh/km</td>\n",
       "      <td>630 km/h</td>\n",
       "      <td>€52,965</td>\n",
       "      <td>€52,995</td>\n",
       "      <td>£48,490</td>\n",
       "      <td>1000</td>\n",
       "      <td>5</td>\n",
       "    </tr>\n",
       "    <tr>\n",
       "      <th>4</th>\n",
       "      <td>BMW i4 eDrive40</td>\n",
       "      <td>Battery Electric Vehicle</td>\n",
       "      <td>80.7 kWh</td>\n",
       "      <td>5.7 sec</td>\n",
       "      <td>190 km/h</td>\n",
       "      <td>470 km</td>\n",
       "      <td>172 Wh/km</td>\n",
       "      <td>730 km/h</td>\n",
       "      <td>€59,200</td>\n",
       "      <td>€60,630</td>\n",
       "      <td>£53,480</td>\n",
       "      <td>1600</td>\n",
       "      <td>5</td>\n",
       "    </tr>\n",
       "  </tbody>\n",
       "</table>\n",
       "</div>"
      ],
      "text/plain": [
       "                              car_name             electric_type  \\\n",
       "0  Tesla Model 3 Long Range Dual Motor  Battery Electric Vehicle   \n",
       "1                           Kia EV6 GT  Battery Electric Vehicle   \n",
       "2  Tesla Model Y Long Range Dual Motor  Battery Electric Vehicle   \n",
       "3                       Tesla Model 3   Battery Electric Vehicle   \n",
       "4                      BMW i4 eDrive40  Battery Electric Vehicle   \n",
       "\n",
       "  battery_capacity zero_to_hundred top_speed   range efficiency fastcharge  \\\n",
       "0           75 kWh         4.4 sec  233 km/h  485 km  155 Wh/km   750 km/h   \n",
       "1           74 kWh         3.5 sec  260 km/h  370 km  200 Wh/km   970 km/h   \n",
       "2           75 kWh         5.0 sec  217 km/h  435 km  172 Wh/km   670 km/h   \n",
       "3         57.5 kWh         6.1 sec  225 km/h  380 km  151 Wh/km   630 km/h   \n",
       "4         80.7 kWh         5.7 sec  190 km/h  470 km  172 Wh/km   730 km/h   \n",
       "\n",
       "  germ_price neth_price uk_price tow_weight no_of_seats  \n",
       "0    €62,465    €60,995  £57,490       1000           5  \n",
       "1    €69,990    €68,495  £61,595       1800           5  \n",
       "2    €59,965    €66,995  £57,990       1600           5  \n",
       "3    €52,965    €52,995  £48,490       1000           5  \n",
       "4    €59,200    €60,630  £53,480       1600           5  "
      ]
     },
     "execution_count": 72,
     "metadata": {},
     "output_type": "execute_result"
    }
   ],
   "source": [
    "all_cars_df.head()"
   ]
  },
  {
   "cell_type": "code",
   "execution_count": null,
   "id": "271a8a3b",
   "metadata": {},
   "outputs": [],
   "source": [
    "#Further Cleaning will be performed to remove units"
   ]
  }
 ],
 "metadata": {
  "kernelspec": {
   "display_name": "Python 3 (ipykernel)",
   "language": "python",
   "name": "python3"
  },
  "language_info": {
   "codemirror_mode": {
    "name": "ipython",
    "version": 3
   },
   "file_extension": ".py",
   "mimetype": "text/x-python",
   "name": "python",
   "nbconvert_exporter": "python",
   "pygments_lexer": "ipython3",
   "version": "3.9.12"
  }
 },
 "nbformat": 4,
 "nbformat_minor": 5
}
